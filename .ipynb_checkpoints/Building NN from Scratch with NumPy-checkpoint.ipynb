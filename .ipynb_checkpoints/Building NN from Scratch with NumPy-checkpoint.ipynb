{
 "cells": [
  {
   "cell_type": "markdown",
   "id": "cbd2bdb4",
   "metadata": {},
   "source": [
    "# Building a Neural Network from Scratch with NumPy"
   ]
  },
  {
   "cell_type": "code",
   "execution_count": 1,
   "id": "390a3c1d",
   "metadata": {
    "ExecuteTime": {
     "end_time": "2022-08-30T14:13:39.268994Z",
     "start_time": "2022-08-30T14:13:39.248909Z"
    }
   },
   "outputs": [],
   "source": [
    "import random\n",
    "import time"
   ]
  },
  {
   "cell_type": "code",
   "execution_count": 2,
   "id": "acc38886",
   "metadata": {
    "ExecuteTime": {
     "end_time": "2022-08-30T14:13:40.321308Z",
     "start_time": "2022-08-30T14:13:39.271190Z"
    }
   },
   "outputs": [],
   "source": [
    "import numpy as np\n",
    "import matplotlib.pyplot as plt"
   ]
  },
  {
   "cell_type": "markdown",
   "id": "5c79c42e",
   "metadata": {},
   "source": [
    "## Single Perceptron"
   ]
  },
  {
   "cell_type": "code",
   "execution_count": 3,
   "id": "b1242c17",
   "metadata": {
    "ExecuteTime": {
     "end_time": "2022-08-30T14:13:40.324055Z",
     "start_time": "2022-08-30T14:13:40.322119Z"
    }
   },
   "outputs": [],
   "source": [
    "class Perceptron(object):\n",
    "    def __init__(self, weight, bias):\n",
    "        self.weight = weight\n",
    "        self.bias = bias\n",
    "    \n",
    "    def feedforward(self, a):\n",
    "        return self.weight * a + self.bias"
   ]
  },
  {
   "cell_type": "code",
   "execution_count": 4,
   "id": "8c6832a0",
   "metadata": {
    "ExecuteTime": {
     "end_time": "2022-08-30T14:13:40.328076Z",
     "start_time": "2022-08-30T14:13:40.325392Z"
    }
   },
   "outputs": [
    {
     "data": {
      "text/plain": [
       "25"
      ]
     },
     "execution_count": 4,
     "metadata": {},
     "output_type": "execute_result"
    }
   ],
   "source": [
    "p = Perceptron(3, 10)\n",
    "p.feedforward(5)"
   ]
  },
  {
   "cell_type": "markdown",
   "id": "a1a5550d",
   "metadata": {},
   "source": [
    "## Single Sigmoid Neuron"
   ]
  },
  {
   "cell_type": "code",
   "execution_count": 5,
   "id": "c9e2abdd",
   "metadata": {
    "ExecuteTime": {
     "end_time": "2022-08-30T14:13:40.352404Z",
     "start_time": "2022-08-30T14:13:40.328886Z"
    }
   },
   "outputs": [],
   "source": [
    "def sigmoid(z):\n",
    "    a = 1 / (1 + np.exp(-z))\n",
    "    return a"
   ]
  },
  {
   "cell_type": "code",
   "execution_count": 6,
   "id": "e121be8b",
   "metadata": {
    "ExecuteTime": {
     "end_time": "2022-08-30T14:13:40.355419Z",
     "start_time": "2022-08-30T14:13:40.353310Z"
    }
   },
   "outputs": [],
   "source": [
    "class SigmoidNeuron(object):\n",
    "    def __init__(self, weight, bias):\n",
    "        self.weight = weight\n",
    "        self.bias = bias\n",
    "    \n",
    "    def feedforward(self, a):\n",
    "        z = self.weight * a + self.bias\n",
    "        return sigmoid(z)"
   ]
  },
  {
   "cell_type": "code",
   "execution_count": 7,
   "id": "515ae277",
   "metadata": {
    "ExecuteTime": {
     "end_time": "2022-08-30T14:13:40.418777Z",
     "start_time": "2022-08-30T14:13:40.356138Z"
    }
   },
   "outputs": [
    {
     "data": {
      "text/plain": [
       "<matplotlib.collections.PathCollection at 0x7fa9483c7d60>"
      ]
     },
     "execution_count": 7,
     "metadata": {},
     "output_type": "execute_result"
    },
    {
     "data": {
      "image/png": "[encoded data removed]",
      "text/plain": [
       "<Figure size 432x288 with 1 Axes>"
      ]
     },
     "metadata": {
      "needs_background": "light"
     },
     "output_type": "display_data"
    }
   ],
   "source": [
    "s = SigmoidNeuron(1, 0)\n",
    "\n",
    "S = []\n",
    "for i in range(-10, 10):\n",
    "    S.append(s.feedforward(i))\n",
    "    \n",
    "plt.scatter(x = range(-10, 10), y = S)"
   ]
  },
  {
   "cell_type": "markdown",
   "id": "5592d29a",
   "metadata": {},
   "source": [
    "## Simple Neural Network Feedforward"
   ]
  },
  {
   "cell_type": "code",
   "execution_count": 8,
   "id": "c855c00f",
   "metadata": {
    "ExecuteTime": {
     "end_time": "2022-08-30T14:13:40.422573Z",
     "start_time": "2022-08-30T14:13:40.419622Z"
    }
   },
   "outputs": [],
   "source": [
    "class SimpleNetwork(object):\n",
    "    def __init__(self, shapes):\n",
    "        self.n_layers = len(shapes)\n",
    "        self.shapes = shapes\n",
    "        \n",
    "        # initialise weights and biases randomly\n",
    "        self.weights = [np.random.randn(n_neuron, previous_n_neuron) for previous_n_neuron, n_neuron in zip(shapes[:-1], shapes[1:])]\n",
    "        self.biases = [np.random.randn(n_neuron, 1) for n_neuron in shapes[1:]]\n",
    "    \n",
    "    def feedforward(self, a):\n",
    "        for b, w in zip(self.biases, self.weights):\n",
    "            z = np.dot(w, a) + b\n",
    "            a = sigmoid(z)\n",
    "        return a"
   ]
  },
  {
   "cell_type": "markdown",
   "id": "16ea72cb",
   "metadata": {},
   "source": [
    "### Initialising a simple neural network"
   ]
  },
  {
   "cell_type": "code",
   "execution_count": 9,
   "id": "739b141a",
   "metadata": {
    "ExecuteTime": {
     "end_time": "2022-08-30T14:13:40.426688Z",
     "start_time": "2022-08-30T14:13:40.423642Z"
    }
   },
   "outputs": [
    {
     "name": "stdout",
     "output_type": "stream",
     "text": [
      "The simple network has 4 layers.\n",
      "\n",
      "The network's weights matrix by layer: \n",
      "[[-0.93981576 -0.89071587 -0.75128276 -0.19635195 -0.84884622]\n",
      " [-1.21057402 -0.25383045  1.17523709  1.51524975 -0.91319856]\n",
      " [ 1.95068796 -0.2517334   0.19919017  0.87535908 -0.05172872]]\n",
      "[[-0.38452774  0.85196891  0.06767346]\n",
      " [-0.23311222 -0.16706224 -1.54609944]]\n",
      "[[ 0.07420008 -0.71163129]]\n",
      "\n",
      "The network's biases matrix by layer: \n",
      "[[ 0.13686825]\n",
      " [-0.24583438]\n",
      " [ 0.76145973]]\n",
      "[[ 0.31569053]\n",
      " [-0.86632775]]\n",
      "[[-1.10985847]]\n"
     ]
    }
   ],
   "source": [
    "shapes = [5, 3, 2, 1]\n",
    "sn = SimpleNetwork(shapes)\n",
    "\n",
    "print(\"The simple network has {} layers.\".format(sn.n_layers), end = '\\n\\n')\n",
    "print(\"The network's weights matrix by layer: \\n\" + \n",
    "            \"\\n\".join(\"{}\".format(w) for w in sn.weights), end = '\\n\\n')\n",
    "print(\"The network's biases matrix by layer: \\n\" + \n",
    "            \"\\n\".join(\"{}\".format(b) for b in sn.biases) )"
   ]
  },
  {
   "cell_type": "markdown",
   "id": "ad5c9b2b",
   "metadata": {},
   "source": [
    "There should be 3 matrices for each of weights and biases, as each non-input layer has a weight and bias matrix.  "
   ]
  },
  {
   "cell_type": "markdown",
   "id": "9350b701",
   "metadata": {},
   "source": [
    "The weight matrix of a non-input layer is of shape __(j x k)__, where:  \n",
    "__j__ = number of nodes in this _current_ layer (start at non-input layer)  \n",
    "__k__ = number of nodes in the _previous_ layer (end at non-output layer)  \n",
    "\n",
    "This in turn agrees with our notation for a specific weight variable, __$w^l_jk$__ , connecting the kth neuron from the previous layer to the jth neuron in the current layer."
   ]
  },
  {
   "cell_type": "markdown",
   "id": "8f82f8b3",
   "metadata": {},
   "source": [
    "### Feedforward"
   ]
  },
  {
   "cell_type": "code",
   "execution_count": 10,
   "id": "bfed86eb",
   "metadata": {
    "ExecuteTime": {
     "end_time": "2022-08-30T14:13:40.431376Z",
     "start_time": "2022-08-30T14:13:40.428913Z"
    }
   },
   "outputs": [
    {
     "data": {
      "text/plain": [
       "array([[0.24926789]])"
      ]
     },
     "execution_count": 10,
     "metadata": {},
     "output_type": "execute_result"
    }
   ],
   "source": [
    "x = np.array([[32], [12], [11], [88], [47]]) # 5x1 input\n",
    "\n",
    "sn.feedforward(x)"
   ]
  },
  {
   "cell_type": "markdown",
   "id": "f63a2a6b",
   "metadata": {},
   "source": [
    "## Backpropagation Algorithm"
   ]
  },
  {
   "cell_type": "markdown",
   "id": "456474a1",
   "metadata": {},
   "source": [
    "The aim of the neural network is to minimise the difference bettween desired and actual prediction from a given set of inputs. This difference is measured using a cost function, and it can be shown that the discrepency of the data is directly proportional to the error, by using chain-rule.\n",
    "- The backpropagation algorithm is for calculating partial derivatives of Cost with respect to weights, biases and weighted activation (aka the error). \n",
    "- The error is defined as __partial derivative of cost, C,  with respect to the weighted activation, z__.\n",
    "- We assume using the quadratic cost function here, where $C = \\frac{1}{2n} \\sum_x (y(x) - a)^2$."
   ]
  },
  {
   "cell_type": "markdown",
   "id": "1086dbe7",
   "metadata": {},
   "source": [
    "### A brief reminder of the four equations used"
   ]
  },
  {
   "cell_type": "markdown",
   "id": "2d40e3c3",
   "metadata": {},
   "source": [
    "1. Error in the output layer  \n",
    "    $\\delta ^L = \\nabla _a C \\odot \\sigma ' (z^L)$\n",
    "1. Error of previous layer in terms of current layer (computing backward)  \n",
    "    $\\delta^l = ((w^{l+1})^T \\delta^{l+1}) \\odot \\sigma ' (z^l)$\n",
    "1. Rate of change of cost with respect to bias, in terms of error  \n",
    "    $\\frac{\\partial C}{\\partial b^l_j} = \\delta^l_j$\n",
    "1. Rate of change of cost with respect to weight, in terms of error  \n",
    "    $\\frac{\\partial C}{\\partial w^l_{jk}} = a^{l-1}_k \\delta^l_j$\n",
    "   \n",
    "__*note that in the code, error is named 'delta', as this is the Greek letter used to represent error__"
   ]
  },
  {
   "cell_type": "code",
   "execution_count": 11,
   "id": "90b5734a",
   "metadata": {
    "ExecuteTime": {
     "end_time": "2022-08-30T14:13:40.434010Z",
     "start_time": "2022-08-30T14:13:40.432159Z"
    }
   },
   "outputs": [],
   "source": [
    "def sigmoid_prime(z):\n",
    "    return sigmoid(z) * (1 - sigmoid(z))\n",
    "\n",
    "# this is the partial derivative of cost w.r.t. output activation, assuming quadratic cost function is used\n",
    "def cost_derivative(output_activations, y): \n",
    "    return (output_activations - y)"
   ]
  },
  {
   "cell_type": "code",
   "execution_count": 12,
   "id": "aaf4aa1c",
   "metadata": {
    "ExecuteTime": {
     "end_time": "2022-08-30T14:13:40.438836Z",
     "start_time": "2022-08-30T14:13:40.434912Z"
    }
   },
   "outputs": [],
   "source": [
    "# we inherit the SimpleNetwork class and add the backpropagation algorithm\n",
    "class Network(SimpleNetwork):\n",
    "    def backprop(self, x, y):\n",
    "        # create empty arrays for storing the partial derivatives \n",
    "        nabla_b = [np.zeros(b.shape) for b in self.biases]\n",
    "        nabla_w = [np.zeros(w.shape) for w in self.weights]\n",
    "        \n",
    "        # first, gather each neuron's weighted activation and activation by layer\n",
    "        a = x\n",
    "        A = [x]\n",
    "        Z = []\n",
    "        for b, w in zip(self.biases, self.weights):\n",
    "            z = np.dot(w, a) + b\n",
    "            Z.append(z)\n",
    "            a = sigmoid(z)\n",
    "            A.append(a)\n",
    "        # uncomment to see the weighted activation and activation matrices\n",
    "        # print(\"Weighted activations for each non-input layer are: \\n\" + \n",
    "        #              \"\\n\".join(\"{}\".format(z) for z in Z), end = '\\n\\n')\n",
    "        # print(\"Activations for each non-input layer are: \\n\" + \n",
    "        #              \"\\n\".join(\"{}\".format(a) for a in A), end = '\\n\\n')\n",
    "        \n",
    "        # now computes the error for each neuron, by layer in reversing order\n",
    "        delta = cost_derivative(A[-1], y) * sigmoid_prime(Z[-1]) # equation 1 ('*' operation is Hadamard product)\n",
    "        nabla_b[-1] = delta # equation 3\n",
    "        nabla_w[-1] = np.dot(delta, A[-2].transpose()) # equation 4\n",
    "        \n",
    "        for i in range(2, self.n_layers):\n",
    "            z = Z[-i]\n",
    "            delta = np.dot(self.weights[-i+1].transpose(), delta) * sigmoid_prime(z) # equation 2\n",
    "            nabla_b[-i] = delta # equation 3\n",
    "            nabla_w[-i] = np.dot(delta, A[-i-1].transpose()) # equation 4\n",
    "        \n",
    "        return (nabla_b, nabla_w)"
   ]
  },
  {
   "cell_type": "markdown",
   "id": "a732a509",
   "metadata": {},
   "source": [
    "### Initialising network"
   ]
  },
  {
   "cell_type": "code",
   "execution_count": 13,
   "id": "b33ce03a",
   "metadata": {
    "ExecuteTime": {
     "end_time": "2022-08-30T14:13:40.441020Z",
     "start_time": "2022-08-30T14:13:40.439661Z"
    }
   },
   "outputs": [],
   "source": [
    "shapes = [5, 3, 2, 1]\n",
    "n = Network(shapes)"
   ]
  },
  {
   "cell_type": "markdown",
   "id": "5022c78f",
   "metadata": {},
   "source": [
    "### Calculate partial derivatives with back propagation algorithm"
   ]
  },
  {
   "cell_type": "code",
   "execution_count": 14,
   "id": "98c9baf5",
   "metadata": {
    "ExecuteTime": {
     "end_time": "2022-08-30T14:13:40.444576Z",
     "start_time": "2022-08-30T14:13:40.441804Z"
    }
   },
   "outputs": [],
   "source": [
    "x = np.array([[32], [12], [11], [88], [47]]) # 5x1 input\n",
    "y = np.array([[0.7]]) # 1x1 output\n",
    "\n",
    "nabla_b, nabla_w = n.backprop(x, y)"
   ]
  },
  {
   "cell_type": "code",
   "execution_count": 15,
   "id": "3c2fe0f8",
   "metadata": {
    "ExecuteTime": {
     "end_time": "2022-08-30T14:13:40.447759Z",
     "start_time": "2022-08-30T14:13:40.445467Z"
    }
   },
   "outputs": [
    {
     "name": "stdout",
     "output_type": "stream",
     "text": [
      "shape of partial C/partial b matrix by layer:  \n",
      " [(3, 1), (2, 1), (1, 1)]\n",
      "\n",
      "shape of partial C/partial w matrix by layer:  \n",
      " [(3, 5), (2, 3), (1, 2)]\n"
     ]
    }
   ],
   "source": [
    "n_b_shape = [nabla_b[i].shape for i in range(len(nabla_b))]\n",
    "n_w_shape = [nabla_w[i].shape for i in range(len(nabla_w))]\n",
    "\n",
    "print('shape of partial C/partial b matrix by layer: ', '\\n', n_b_shape, end = '\\n\\n')\n",
    "print('shape of partial C/partial w matrix by layer: ', '\\n', n_w_shape)"
   ]
  },
  {
   "cell_type": "code",
   "execution_count": 16,
   "id": "dd58acff",
   "metadata": {
    "ExecuteTime": {
     "end_time": "2022-08-30T14:13:40.449754Z",
     "start_time": "2022-08-30T14:13:40.448545Z"
    }
   },
   "outputs": [],
   "source": [
    "# print(nabla_b)\n",
    "# print(nabla_w)"
   ]
  },
  {
   "cell_type": "markdown",
   "id": "dabbb9f9",
   "metadata": {},
   "source": [
    "## Train the Neural Network with Gradient Descent"
   ]
  },
  {
   "cell_type": "markdown",
   "id": "612632fc",
   "metadata": {},
   "source": [
    "With the back-propagation algorithm, we can compute the partial derivatives of cost with respect to weights and biases. Now we can apply gradient descent by adjusting weights and biases after each training input for the neural network to learn."
   ]
  },
  {
   "cell_type": "markdown",
   "id": "66dce87a",
   "metadata": {},
   "source": [
    "To do this, for any weight or bias parameters $v$, we choose:  $\\Delta v =  - \\frac{1}{\\eta} \\frac{\\partial C}{\\partial v}$  "
   ]
  },
  {
   "cell_type": "code",
   "execution_count": 17,
   "id": "f449f3bb",
   "metadata": {
    "ExecuteTime": {
     "end_time": "2022-08-30T14:13:40.454170Z",
     "start_time": "2022-08-30T14:13:40.450501Z"
    }
   },
   "outputs": [],
   "source": [
    "# we inherit the Network class and add the gradient descent algorithm\n",
    "class TrainNetwork(Network):  \n",
    "    def gradient_descent(self, training_data, eta):\n",
    "        nabla_b = [np.zeros(b.shape) for b in self.biases]\n",
    "        nabla_w = [np.zeros(w.shape) for w in self.weights]\n",
    "        \n",
    "        # compute the sum of gradient matrices with the entire training data\n",
    "        for x, y in training_data:\n",
    "            delta_nabla_b, delta_nabla_w = self.backprop(x, y)\n",
    "            nabla_b = [nb+dnb for nb, dnb in zip(nabla_b, delta_nabla_b)]\n",
    "            nabla_w = [nw+dnw for nw, dnw in zip(nabla_w, delta_nabla_w)]\n",
    "        \n",
    "        # update parameters\n",
    "        self.weights = [w - (eta/len(training_data))*nw for w, nw in zip(self.weights, nabla_w)]\n",
    "        self.biases = [b - (eta/len(training_data))*nb for b, nb in zip(self.biases, nabla_b)]\n",
    "        \n",
    "    def train_1_epoch(self, training_data, eta):\n",
    "        for x, y in training_data: # training_data should be in the form of key-value pairs\n",
    "            self.gradient_descent(training_data, eta)\n",
    "    \n",
    "    def predict(self, testing_data):\n",
    "        for x, y in testing_data: # testing_data should be in the form of key-value pairs\n",
    "            print(self.feedforward(x))"
   ]
  },
  {
   "cell_type": "markdown",
   "id": "57fb5246",
   "metadata": {},
   "source": [
    "As an example, let's assume we want the network to always predict 1, regardless of the input:"
   ]
  },
  {
   "cell_type": "markdown",
   "id": "8ec8d234",
   "metadata": {},
   "source": [
    "### Initialising network"
   ]
  },
  {
   "cell_type": "code",
   "execution_count": 18,
   "id": "b95f1941",
   "metadata": {
    "ExecuteTime": {
     "end_time": "2022-08-30T14:13:40.457089Z",
     "start_time": "2022-08-30T14:13:40.455032Z"
    }
   },
   "outputs": [],
   "source": [
    "shapes = [5, 3, 2, 1]\n",
    "tn = TrainNetwork(shapes)"
   ]
  },
  {
   "cell_type": "markdown",
   "id": "036d89cc",
   "metadata": {},
   "source": [
    "### Initial network prediction"
   ]
  },
  {
   "cell_type": "code",
   "execution_count": 19,
   "id": "e9894fa4",
   "metadata": {
    "ExecuteTime": {
     "end_time": "2022-08-30T14:13:40.461764Z",
     "start_time": "2022-08-30T14:13:40.458291Z"
    }
   },
   "outputs": [
    {
     "name": "stdout",
     "output_type": "stream",
     "text": [
      "[[0.23385574]]\n",
      "[[0.22804814]]\n",
      "[[0.22780031]]\n",
      "[[0.23662701]]\n",
      "[[0.2305786]]\n",
      "[[0.22105526]]\n",
      "[[0.2245902]]\n",
      "[[0.23015233]]\n",
      "[[0.24255247]]\n",
      "[[0.23962139]]\n"
     ]
    }
   ],
   "source": [
    "x = [np.random.randn(5, 1) for i in range(10)]\n",
    "y = [np.ones(shape = (1, 1)) for i in range(10)]\n",
    "testing_data = list(zip(x, y))\n",
    "\n",
    "tn.predict(testing_data)"
   ]
  },
  {
   "cell_type": "markdown",
   "id": "157f392b",
   "metadata": {},
   "source": [
    "### Training neural network with gradient descent"
   ]
  },
  {
   "cell_type": "code",
   "execution_count": 20,
   "id": "e62a4218",
   "metadata": {
    "ExecuteTime": {
     "end_time": "2022-08-30T14:13:40.870158Z",
     "start_time": "2022-08-30T14:13:40.462440Z"
    }
   },
   "outputs": [],
   "source": [
    "x = [np.random.randn(5, 1) for i in range(100)]\n",
    "y = [np.ones(shape = (1, 1)) for i in range(100)]\n",
    "training_data = list(zip(x, y))\n",
    "\n",
    "tn.train_1_epoch(training_data, 0.5)"
   ]
  },
  {
   "cell_type": "markdown",
   "id": "dc0fb8fe",
   "metadata": {},
   "source": [
    "### Predictions after training"
   ]
  },
  {
   "cell_type": "code",
   "execution_count": 21,
   "id": "aaa7bfb7",
   "metadata": {
    "ExecuteTime": {
     "end_time": "2022-08-30T14:13:40.874872Z",
     "start_time": "2022-08-30T14:13:40.871105Z"
    }
   },
   "outputs": [
    {
     "name": "stdout",
     "output_type": "stream",
     "text": [
      "[[0.89308098]]\n",
      "[[0.91867159]]\n",
      "[[0.89735566]]\n",
      "[[0.89258063]]\n",
      "[[0.90058585]]\n",
      "[[0.88413302]]\n",
      "[[0.90111798]]\n",
      "[[0.91287198]]\n",
      "[[0.89028666]]\n",
      "[[0.90385031]]\n"
     ]
    }
   ],
   "source": [
    "x = [np.random.randn(5, 1) for i in range(10)]\n",
    "y = [np.ones(shape = (1, 1)) for i in range(10)]\n",
    "testing_data = zip(x, y)\n",
    "\n",
    "tn.predict(testing_data)"
   ]
  },
  {
   "cell_type": "markdown",
   "id": "83667c68",
   "metadata": {},
   "source": [
    "## Introducing Stochastic Gradient Descent"
   ]
  },
  {
   "cell_type": "markdown",
   "id": "f80008e6",
   "metadata": {},
   "source": [
    "With stochastic gradient descent, we randomly split the training data into mini-batches. We then train each"
   ]
  },
  {
   "cell_type": "code",
   "execution_count": 22,
   "id": "14000c01",
   "metadata": {
    "ExecuteTime": {
     "end_time": "2022-08-30T14:13:40.880662Z",
     "start_time": "2022-08-30T14:13:40.875857Z"
    }
   },
   "outputs": [],
   "source": [
    "# we inherit the Network class and add the stochastic gradient descent algorithm\n",
    "class SGDTrainNetwork(Network):\n",
    "    def update_mini_batch(self, mini_batch, eta):\n",
    "        # create empty arrays for storing the partial derivatives \n",
    "        nabla_b = [np.zeros(b.shape) for b in self.biases]\n",
    "        nabla_w = [np.zeros(w.shape) for w in self.weights]\n",
    "        \n",
    "        # compute the sum of gradient matrices with the entire mini batch\n",
    "        for x, y in mini_batch:\n",
    "            delta_nabla_b, delta_nabla_w = self.backprop(x, y)\n",
    "            nabla_b = [nb+dnb for nb, dnb in zip(nabla_b, delta_nabla_b)]\n",
    "            nabla_w = [nw+dnw for nw, dnw in zip(nabla_w, delta_nabla_w)]\n",
    "        \n",
    "        # update parameters using the averaged gradient matrices\n",
    "        self.weights = [w - (eta/len(mini_batch))*nw for w, nw in zip(self.weights, nabla_w)]\n",
    "        self.biases = [b - (eta/len(mini_batch))*nb for b, nb in zip(self.biases, nabla_b)]\n",
    "    \n",
    "    def SGD(self, training_data, epochs, mini_batch_size, eta, testing_data = None):\n",
    "        n_train = len(training_data)\n",
    "        for i in range(epochs):\n",
    "            random.shuffle(training_data)\n",
    "            mini_batches = [training_data[k:k+mini_batch_size] for k in range(0, n_train, mini_batch_size)]\n",
    "            \n",
    "            for mini_batch in mini_batches:\n",
    "                self.update_mini_batch(mini_batch, eta)\n",
    "            \n",
    "            if testing_data:\n",
    "                n_test = len(testing_data)\n",
    "                print('Epoch {0}: prediction accuracy = {1}/{2}'.format(i, self.evaluate(testing_data), n_test))\n",
    "            else:\n",
    "                print('Epoch {0} complete.'.format(i))\n",
    "    \n",
    "    def evaluate(self, testing_data):\n",
    "        results = [(np.rint(self.feedforward(x)), y) for x, y in testing_data]\n",
    "        return sum(int(x == y) for x, y in results)\n",
    "    \n",
    "    def predict(self, testing_data):\n",
    "        for x, y in testing_data: # testing_data should be in the form of key-value pairs\n",
    "            print(self.feedforward(x))"
   ]
  },
  {
   "cell_type": "markdown",
   "id": "0c6317e1",
   "metadata": {},
   "source": [
    "### Initialising network"
   ]
  },
  {
   "cell_type": "code",
   "execution_count": 23,
   "id": "ab41cfa9",
   "metadata": {
    "ExecuteTime": {
     "end_time": "2022-08-30T14:13:40.882832Z",
     "start_time": "2022-08-30T14:13:40.881332Z"
    }
   },
   "outputs": [],
   "source": [
    "shapes = [5, 3, 2, 1]\n",
    "sgdtn = SGDTrainNetwork(shapes)"
   ]
  },
  {
   "cell_type": "markdown",
   "id": "1b55b2c4",
   "metadata": {},
   "source": [
    "### Initial network prediction"
   ]
  },
  {
   "cell_type": "code",
   "execution_count": 24,
   "id": "49c5d989",
   "metadata": {
    "ExecuteTime": {
     "end_time": "2022-08-30T14:13:40.886753Z",
     "start_time": "2022-08-30T14:13:40.883508Z"
    }
   },
   "outputs": [
    {
     "name": "stdout",
     "output_type": "stream",
     "text": [
      "[[0.13362114]]\n",
      "[[0.12460587]]\n",
      "[[0.1233439]]\n",
      "[[0.12994267]]\n",
      "[[0.12322777]]\n",
      "[[0.12885599]]\n",
      "[[0.12905074]]\n",
      "[[0.14369155]]\n",
      "[[0.13327958]]\n",
      "[[0.13889917]]\n"
     ]
    }
   ],
   "source": [
    "x = [np.random.randn(5, 1) for i in range(100)]\n",
    "y = [np.ones(shape = (1, 1)) for i in range(100)]\n",
    "testing_data = list(zip(x, y))\n",
    "\n",
    "sgdtn.predict(testing_data[0:10])"
   ]
  },
  {
   "cell_type": "markdown",
   "id": "ba7e00a0",
   "metadata": {},
   "source": [
    "### Training neural network with gradient descent"
   ]
  },
  {
   "cell_type": "code",
   "execution_count": 25,
   "id": "3d0fa4be",
   "metadata": {
    "ExecuteTime": {
     "end_time": "2022-08-30T14:13:40.951012Z",
     "start_time": "2022-08-30T14:13:40.887402Z"
    }
   },
   "outputs": [
    {
     "name": "stdout",
     "output_type": "stream",
     "text": [
      "Epoch 0: prediction accuracy = 0/100\n",
      "Epoch 1: prediction accuracy = 0/100\n",
      "Epoch 2: prediction accuracy = 0/100\n",
      "Epoch 3: prediction accuracy = 0/100\n",
      "Epoch 4: prediction accuracy = 80/100\n",
      "Epoch 5: prediction accuracy = 100/100\n",
      "Epoch 6: prediction accuracy = 100/100\n",
      "Epoch 7: prediction accuracy = 100/100\n",
      "Epoch 8: prediction accuracy = 100/100\n",
      "Epoch 9: prediction accuracy = 100/100\n"
     ]
    }
   ],
   "source": [
    "x = [np.random.randn(5, 1) for i in range(100)]\n",
    "y = [np.ones(shape = (1, 1)) for i in range(100)]\n",
    "training_data = list(zip(x, y))\n",
    "\n",
    "sgdtn.SGD(training_data, 10, 20, 0.5, testing_data)"
   ]
  },
  {
   "cell_type": "markdown",
   "id": "059e4bbc",
   "metadata": {},
   "source": [
    "### Predictions after training"
   ]
  },
  {
   "cell_type": "code",
   "execution_count": 26,
   "id": "a5ccb034",
   "metadata": {
    "ExecuteTime": {
     "end_time": "2022-08-30T14:13:40.955059Z",
     "start_time": "2022-08-30T14:13:40.951862Z"
    }
   },
   "outputs": [
    {
     "name": "stdout",
     "output_type": "stream",
     "text": [
      "[[0.80680934]]\n",
      "[[0.77282217]]\n",
      "[[0.76409054]]\n",
      "[[0.79623605]]\n",
      "[[0.76454925]]\n",
      "[[0.78491604]]\n",
      "[[0.7873579]]\n",
      "[[0.81518091]]\n",
      "[[0.79678245]]\n",
      "[[0.80496145]]\n"
     ]
    }
   ],
   "source": [
    "sgdtn.predict(testing_data[0:10])"
   ]
  },
  {
   "cell_type": "markdown",
   "id": "378a952c",
   "metadata": {},
   "source": [
    "## Some Observations"
   ]
  },
  {
   "cell_type": "markdown",
   "id": "d59fec57",
   "metadata": {},
   "source": [
    "### Learning slowdown"
   ]
  },
  {
   "cell_type": "markdown",
   "id": "7f4b4a6f",
   "metadata": {
    "ExecuteTime": {
     "end_time": "2022-08-30T14:12:01.228670Z",
     "start_time": "2022-08-30T14:12:01.224120Z"
    }
   },
   "source": [
    "### Choice of hyper-parameters"
   ]
  },
  {
   "cell_type": "markdown",
   "id": "0d438e2e",
   "metadata": {},
   "source": [
    "### Complexity & Regularisation"
   ]
  }
 ],
 "metadata": {
  "kernelspec": {
   "display_name": "Python 3",
   "language": "python",
   "name": "python3"
  },
  "language_info": {
   "codemirror_mode": {
    "name": "ipython",
    "version": 3
   },
   "file_extension": ".py",
   "mimetype": "text/x-python",
   "name": "python",
   "nbconvert_exporter": "python",
   "pygments_lexer": "ipython3",
   "version": "3.10.7 (main, Sep 14 2022, 22:38:23) [Clang 14.0.0 (clang-1400.0.29.102)]"
  },
  "toc": {
   "base_numbering": 1,
   "nav_menu": {},
   "number_sections": true,
   "sideBar": true,
   "skip_h1_title": false,
   "title_cell": "Table of Contents",
   "title_sidebar": "Contents",
   "toc_cell": false,
   "toc_position": {},
   "toc_section_display": true,
   "toc_window_display": false
  },
  "vscode": {
   "interpreter": {
    "hash": "b0fa6594d8f4cbf19f97940f81e996739fb7646882a419484c72d19e05852a7e"
   }
  }
 },
 "nbformat": 4,
 "nbformat_minor": 5
}
