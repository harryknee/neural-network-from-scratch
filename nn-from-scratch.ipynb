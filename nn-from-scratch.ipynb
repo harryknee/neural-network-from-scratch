{
 "cells": [
  {
   "cell_type": "markdown",
   "id": "cbd2bdb4",
   "metadata": {},
   "source": [
    "# Building a Neural Network from Scratch with NumPy"
   ]
  },
  {
   "cell_type": "code",
   "execution_count": 1,
   "id": "390a3c1d",
   "metadata": {
    "ExecuteTime": {
     "end_time": "2023-01-22T19:42:13.310613Z",
     "start_time": "2023-01-22T19:42:13.304305Z"
    }
   },
   "outputs": [],
   "source": [
    "import random\n",
    "import time"
   ]
  },
  {
   "cell_type": "code",
   "execution_count": 2,
   "id": "acc38886",
   "metadata": {
    "ExecuteTime": {
     "end_time": "2023-01-22T19:42:13.317889Z",
     "start_time": "2023-01-22T19:42:13.315091Z"
    }
   },
   "outputs": [],
   "source": [
    "import numpy as np\n",
    "import matplotlib.pyplot as plt"
   ]
  },
  {
   "cell_type": "code",
   "execution_count": 3,
   "id": "4a9aee0b",
   "metadata": {
    "ExecuteTime": {
     "end_time": "2023-01-22T19:42:13.324512Z",
     "start_time": "2023-01-22T19:42:13.319643Z"
    }
   },
   "outputs": [
    {
     "data": {
      "text/plain": [
       "RandomState(MT19937) at 0x7F8AA8FD9240"
      ]
     },
     "execution_count": 3,
     "metadata": {},
     "output_type": "execute_result"
    }
   ],
   "source": [
    "np.random.RandomState(seed=0)"
   ]
  },
  {
   "cell_type": "markdown",
   "id": "5c79c42e",
   "metadata": {},
   "source": [
    "## Single Perceptron"
   ]
  },
  {
   "cell_type": "code",
   "execution_count": 4,
   "id": "b1242c17",
   "metadata": {
    "ExecuteTime": {
     "end_time": "2023-01-22T19:42:13.329976Z",
     "start_time": "2023-01-22T19:42:13.327249Z"
    }
   },
   "outputs": [],
   "source": [
    "class Perceptron(object):\n",
    "    def __init__(self, weight, bias):\n",
    "        self.weight = weight\n",
    "        self.bias = bias\n",
    "    \n",
    "    def feedforward(self, a):\n",
    "        return self.weight * a + self.bias"
   ]
  },
  {
   "cell_type": "code",
   "execution_count": 5,
   "id": "8c6832a0",
   "metadata": {
    "ExecuteTime": {
     "end_time": "2023-01-22T19:42:13.334033Z",
     "start_time": "2023-01-22T19:42:13.331352Z"
    }
   },
   "outputs": [
    {
     "data": {
      "text/plain": [
       "25"
      ]
     },
     "execution_count": 5,
     "metadata": {},
     "output_type": "execute_result"
    }
   ],
   "source": [
    "p = Perceptron(3, 10)\n",
    "p.feedforward(5)"
   ]
  },
  {
   "cell_type": "markdown",
   "id": "a1a5550d",
   "metadata": {},
   "source": [
    "## Single Sigmoid Neuron"
   ]
  },
  {
   "cell_type": "code",
   "execution_count": 6,
   "id": "c9e2abdd",
   "metadata": {
    "ExecuteTime": {
     "end_time": "2023-01-22T19:42:13.337065Z",
     "start_time": "2023-01-22T19:42:13.335112Z"
    }
   },
   "outputs": [],
   "source": [
    "def sigmoid(z):\n",
    "    a = 1 / (1 + np.exp(-z))\n",
    "    return a"
   ]
  },
  {
   "cell_type": "code",
   "execution_count": 7,
   "id": "e121be8b",
   "metadata": {
    "ExecuteTime": {
     "end_time": "2023-01-22T19:42:13.341593Z",
     "start_time": "2023-01-22T19:42:13.338938Z"
    }
   },
   "outputs": [],
   "source": [
    "class SigmoidNeuron(object):\n",
    "    def __init__(self, weight, bias):\n",
    "        self.weight = weight\n",
    "        self.bias = bias\n",
    "    \n",
    "    def feedforward(self, a):\n",
    "        z = self.weight * a + self.bias\n",
    "        return sigmoid(z)"
   ]
  },
  {
   "cell_type": "code",
   "execution_count": 8,
   "id": "515ae277",
   "metadata": {
    "ExecuteTime": {
     "end_time": "2023-01-22T19:42:13.409544Z",
     "start_time": "2023-01-22T19:42:13.342504Z"
    }
   },
   "outputs": [
    {
     "data": {
      "text/plain": [
       "<matplotlib.collections.PathCollection at 0x7f8a788ee760>"
      ]
     },
     "execution_count": 8,
     "metadata": {},
     "output_type": "execute_result"
    },
    {
     "data": {
      "image/png": "[encoded data removed]",
      "text/plain": [
       "<Figure size 432x288 with 1 Axes>"
      ]
     },
     "metadata": {
      "needs_background": "light"
     },
     "output_type": "display_data"
    }
   ],
   "source": [
    "s = SigmoidNeuron(1, 0)\n",
    "\n",
    "S = []\n",
    "for i in range(-10, 10):\n",
    "    S.append(s.feedforward(i))\n",
    "    \n",
    "plt.scatter(x = range(-10, 10), y = S)"
   ]
  },
  {
   "cell_type": "markdown",
   "id": "5592d29a",
   "metadata": {},
   "source": [
    "## Simple Neural Network Feedforward"
   ]
  },
  {
   "cell_type": "code",
   "execution_count": 9,
   "id": "c855c00f",
   "metadata": {
    "ExecuteTime": {
     "end_time": "2023-01-22T19:42:13.413408Z",
     "start_time": "2023-01-22T19:42:13.410448Z"
    }
   },
   "outputs": [],
   "source": [
    "class SimpleNetwork(object):\n",
    "    def __init__(self, shapes):\n",
    "        self.n_layers = len(shapes)\n",
    "        self.shapes = shapes\n",
    "        \n",
    "        # initialise weights and biases randomly\n",
    "        self.weights = [np.random.randn(n_neuron, previous_n_neuron) for previous_n_neuron, n_neuron in zip(shapes[:-1], shapes[1:])]\n",
    "        self.biases = [np.random.randn(n_neuron, 1) for n_neuron in shapes[1:]]\n",
    "    \n",
    "    def feedforward(self, a):\n",
    "        for b, w in zip(self.biases, self.weights):\n",
    "            z = np.dot(w, a) + b\n",
    "            a = sigmoid(z)\n",
    "        return a"
   ]
  },
  {
   "cell_type": "markdown",
   "id": "16ea72cb",
   "metadata": {},
   "source": [
    "### Initialising a simple neural network"
   ]
  },
  {
   "cell_type": "code",
   "execution_count": 10,
   "id": "739b141a",
   "metadata": {
    "ExecuteTime": {
     "end_time": "2023-01-22T19:42:13.417590Z",
     "start_time": "2023-01-22T19:42:13.414310Z"
    }
   },
   "outputs": [
    {
     "name": "stdout",
     "output_type": "stream",
     "text": [
      "The simple network has 4 layers.\n",
      "\n",
      "The network's weights matrix by layer: \n",
      "[[ 0.1559758  -2.66305518 -1.00570795 -0.42602583  0.46012749]\n",
      " [-1.15567296  1.90801973  0.34407196  0.79525217 -0.45996502]\n",
      " [ 2.59702135  0.44643404 -0.39287863 -0.45136611 -1.7771134 ]]\n",
      "[[-0.59971018 -0.81899182  0.53324852]\n",
      " [ 1.81821855  0.29907565  1.12815928]]\n",
      "[[-0.37786207 -0.71601265]]\n",
      "\n",
      "The network's biases matrix by layer: \n",
      "[[-0.77199394]\n",
      " [-1.20410351]\n",
      " [-1.2439718 ]]\n",
      "[[0.19968399]\n",
      " [0.50398797]]\n",
      "[[-0.13471059]]\n"
     ]
    }
   ],
   "source": [
    "shapes = [5, 3, 2, 1]\n",
    "sn = SimpleNetwork(shapes)\n",
    "\n",
    "print(\"The simple network has {} layers.\".format(sn.n_layers), end = '\\n\\n')\n",
    "print(\"The network's weights matrix by layer: \\n\" + \n",
    "            \"\\n\".join(\"{}\".format(w) for w in sn.weights), end = '\\n\\n')\n",
    "print(\"The network's biases matrix by layer: \\n\" + \n",
    "            \"\\n\".join(\"{}\".format(b) for b in sn.biases) )"
   ]
  },
  {
   "cell_type": "markdown",
   "id": "ad5c9b2b",
   "metadata": {},
   "source": [
    "There should be 3 matrices for each of weights and biases, as each non-input layer has a weight and bias matrix.  "
   ]
  },
  {
   "cell_type": "markdown",
   "id": "9350b701",
   "metadata": {},
   "source": [
    "The weight matrix of a non-input layer is of shape __(j x k)__, where:  \n",
    "__j__ = number of nodes in this _current_ layer (start at non-input layer)  \n",
    "__k__ = number of nodes in the _previous_ layer (end at non-output layer)  \n",
    "\n",
    "This in turn agrees with our notation for a specific weight variable, __$w^l_jk$__ , connecting the kth neuron from the previous layer to the jth neuron in the current layer."
   ]
  },
  {
   "cell_type": "markdown",
   "id": "8f82f8b3",
   "metadata": {},
   "source": [
    "### Feedforward"
   ]
  },
  {
   "cell_type": "code",
   "execution_count": 11,
   "id": "bfed86eb",
   "metadata": {
    "ExecuteTime": {
     "end_time": "2023-01-22T19:42:13.421056Z",
     "start_time": "2023-01-22T19:42:13.418409Z"
    }
   },
   "outputs": [
    {
     "data": {
      "text/plain": [
       "array([[0.318334]])"
      ]
     },
     "execution_count": 11,
     "metadata": {},
     "output_type": "execute_result"
    }
   ],
   "source": [
    "x = np.array([[32], [12], [11], [88], [47]]) # 5x1 input\n",
    "\n",
    "sn.feedforward(x)"
   ]
  },
  {
   "cell_type": "markdown",
   "id": "f63a2a6b",
   "metadata": {},
   "source": [
    "## Backpropagation Algorithm"
   ]
  },
  {
   "cell_type": "markdown",
   "id": "456474a1",
   "metadata": {},
   "source": [
    "The aim of the neural network is to minimise the difference bettween desired and actual prediction from a given set of inputs. This difference is measured using a cost function, and it can be shown that the discrepency of the data is directly proportional to the error, by using chain-rule.\n",
    "- The backpropagation algorithm is for calculating partial derivatives of Cost with respect to weights, biases and weighted activation (aka the error). \n",
    "- The error is defined as __partial derivative of cost, C,  with respect to the weighted activation, z__.\n",
    "- We assume using the quadratic cost function here, where $C = \\frac{1}{2n} \\sum_x (y(x) - a)^2$."
   ]
  },
  {
   "cell_type": "markdown",
   "id": "1086dbe7",
   "metadata": {},
   "source": [
    "### A brief reminder of the four equations used"
   ]
  },
  {
   "cell_type": "markdown",
   "id": "2d40e3c3",
   "metadata": {},
   "source": [
    "1. Error in the output layer  \n",
    "    $\\delta ^L = \\nabla _a C \\odot \\sigma ' (z^L)$\n",
    "1. Error of previous layer in terms of current layer (computing backward)  \n",
    "    $\\delta^l = ((w^{l+1})^T \\delta^{l+1}) \\odot \\sigma ' (z^l)$\n",
    "1. Rate of change of cost with respect to bias, in terms of error  \n",
    "    $\\frac{\\partial C}{\\partial b^l_j} = \\delta^l_j$\n",
    "1. Rate of change of cost with respect to weight, in terms of error  \n",
    "    $\\frac{\\partial C}{\\partial w^l_{jk}} = a^{l-1}_k \\delta^l_j$\n",
    "   \n",
    "__*note that in the code, error is named 'delta', as this is the Greek letter used to represent error__"
   ]
  },
  {
   "cell_type": "code",
   "execution_count": 12,
   "id": "90b5734a",
   "metadata": {
    "ExecuteTime": {
     "end_time": "2023-01-22T19:42:13.424644Z",
     "start_time": "2023-01-22T19:42:13.422112Z"
    }
   },
   "outputs": [],
   "source": [
    "def sigmoid_prime(z):\n",
    "    return sigmoid(z) * (1 - sigmoid(z))\n",
    "\n",
    "# this is the partial derivative of cost w.r.t. output activation, assuming quadratic cost function is used\n",
    "def cost_derivative(output_activations, y): \n",
    "    return (output_activations - y)"
   ]
  },
  {
   "cell_type": "code",
   "execution_count": 13,
   "id": "aaf4aa1c",
   "metadata": {
    "ExecuteTime": {
     "end_time": "2023-01-22T19:42:13.429549Z",
     "start_time": "2023-01-22T19:42:13.425553Z"
    }
   },
   "outputs": [],
   "source": [
    "# we inherit the SimpleNetwork class and add the backpropagation algorithm\n",
    "class Network(SimpleNetwork):\n",
    "    def backprop(self, x, y):\n",
    "        # create empty arrays for storing the partial derivatives \n",
    "        nabla_b = [np.zeros(b.shape) for b in self.biases]\n",
    "        nabla_w = [np.zeros(w.shape) for w in self.weights]\n",
    "        \n",
    "        # first, gather each neuron's weighted activation and activation by layer\n",
    "        a = x\n",
    "        A = [x]\n",
    "        Z = []\n",
    "        for b, w in zip(self.biases, self.weights):\n",
    "            z = np.dot(w, a) + b\n",
    "            Z.append(z)\n",
    "            a = sigmoid(z)\n",
    "            A.append(a)\n",
    "        # uncomment to see the weighted activation and activation matrices\n",
    "        # print(\"Weighted activations for each non-input layer are: \\n\" + \n",
    "        #              \"\\n\".join(\"{}\".format(z) for z in Z), end = '\\n\\n')\n",
    "        # print(\"Activations for each non-input layer are: \\n\" + \n",
    "        #              \"\\n\".join(\"{}\".format(a) for a in A), end = '\\n\\n')\n",
    "        \n",
    "        # now computes the error for each neuron, by layer in reversing order\n",
    "        delta = cost_derivative(A[-1], y) * sigmoid_prime(Z[-1]) # equation 1 ('*' operation is Hadamard product)\n",
    "        nabla_b[-1] = delta # equation 3\n",
    "        nabla_w[-1] = np.dot(delta, A[-2].transpose()) # equation 4\n",
    "        \n",
    "        for i in range(2, self.n_layers):\n",
    "            z = Z[-i]\n",
    "            delta = np.dot(self.weights[-i+1].transpose(), delta) * sigmoid_prime(z) # equation 2\n",
    "            nabla_b[-i] = delta # equation 3\n",
    "            nabla_w[-i] = np.dot(delta, A[-i-1].transpose()) # equation 4\n",
    "        \n",
    "        return (nabla_b, nabla_w)"
   ]
  },
  {
   "cell_type": "markdown",
   "id": "a732a509",
   "metadata": {},
   "source": [
    "### Initialising network"
   ]
  },
  {
   "cell_type": "code",
   "execution_count": 14,
   "id": "b33ce03a",
   "metadata": {
    "ExecuteTime": {
     "end_time": "2023-01-22T19:42:13.432455Z",
     "start_time": "2023-01-22T19:42:13.430397Z"
    }
   },
   "outputs": [],
   "source": [
    "shapes = [5, 3, 2, 1]\n",
    "n = Network(shapes)"
   ]
  },
  {
   "cell_type": "markdown",
   "id": "5022c78f",
   "metadata": {},
   "source": [
    "### Calculate partial derivatives with back propagation algorithm"
   ]
  },
  {
   "cell_type": "code",
   "execution_count": 15,
   "id": "98c9baf5",
   "metadata": {
    "ExecuteTime": {
     "end_time": "2023-01-22T19:42:13.435413Z",
     "start_time": "2023-01-22T19:42:13.433136Z"
    }
   },
   "outputs": [],
   "source": [
    "x = np.array([[32], [12], [11], [88], [47]]) # 5x1 input\n",
    "y = np.array([[0.7]]) # 1x1 output\n",
    "\n",
    "nabla_b, nabla_w = n.backprop(x, y)"
   ]
  },
  {
   "cell_type": "code",
   "execution_count": 16,
   "id": "3c2fe0f8",
   "metadata": {
    "ExecuteTime": {
     "end_time": "2023-01-22T19:42:13.440714Z",
     "start_time": "2023-01-22T19:42:13.438456Z"
    }
   },
   "outputs": [
    {
     "name": "stdout",
     "output_type": "stream",
     "text": [
      "shape of partial C/partial b matrix by layer:  \n",
      " [(3, 1), (2, 1), (1, 1)]\n",
      "\n",
      "shape of partial C/partial w matrix by layer:  \n",
      " [(3, 5), (2, 3), (1, 2)]\n"
     ]
    }
   ],
   "source": [
    "n_b_shape = [nabla_b[i].shape for i in range(len(nabla_b))]\n",
    "n_w_shape = [nabla_w[i].shape for i in range(len(nabla_w))]\n",
    "\n",
    "print('shape of partial C/partial b matrix by layer: ', '\\n', n_b_shape, end = '\\n\\n')\n",
    "print('shape of partial C/partial w matrix by layer: ', '\\n', n_w_shape)"
   ]
  },
  {
   "cell_type": "code",
   "execution_count": 17,
   "id": "dd58acff",
   "metadata": {
    "ExecuteTime": {
     "end_time": "2023-01-22T19:42:13.442738Z",
     "start_time": "2023-01-22T19:42:13.441411Z"
    }
   },
   "outputs": [],
   "source": [
    "# print(nabla_b)\n",
    "# print(nabla_w)"
   ]
  },
  {
   "cell_type": "markdown",
   "id": "dabbb9f9",
   "metadata": {},
   "source": [
    "## Train the Neural Network with Gradient Descent"
   ]
  },
  {
   "cell_type": "markdown",
   "id": "612632fc",
   "metadata": {},
   "source": [
    "With the back-propagation algorithm, we can compute the partial derivatives of cost with respect to weights and biases. Now we can apply gradient descent by adjusting weights and biases after each training input for the neural network to learn."
   ]
  },
  {
   "cell_type": "markdown",
   "id": "66dce87a",
   "metadata": {},
   "source": [
    "To do this, for any weight or bias parameters $v$, we choose:  $\\Delta v =  - \\frac{1}{\\eta} \\frac{\\partial C}{\\partial v}$  "
   ]
  },
  {
   "cell_type": "code",
   "execution_count": 18,
   "id": "f449f3bb",
   "metadata": {
    "ExecuteTime": {
     "end_time": "2023-01-22T19:42:13.447293Z",
     "start_time": "2023-01-22T19:42:13.443564Z"
    }
   },
   "outputs": [],
   "source": [
    "# we inherit the Network class and add the gradient descent algorithm\n",
    "class TrainNetwork(Network):  \n",
    "    def gradient_descent(self, training_data, eta):\n",
    "        nabla_b = [np.zeros(b.shape) for b in self.biases]\n",
    "        nabla_w = [np.zeros(w.shape) for w in self.weights]\n",
    "        \n",
    "        # compute the sum of gradient matrices with the entire training data\n",
    "        for x, y in training_data:\n",
    "            delta_nabla_b, delta_nabla_w = self.backprop(x, y)\n",
    "            nabla_b = [nb+dnb for nb, dnb in zip(nabla_b, delta_nabla_b)]\n",
    "            nabla_w = [nw+dnw for nw, dnw in zip(nabla_w, delta_nabla_w)]\n",
    "        \n",
    "        # update parameters\n",
    "        self.weights = [w - (eta/len(training_data))*nw for w, nw in zip(self.weights, nabla_w)]\n",
    "        self.biases = [b - (eta/len(training_data))*nb for b, nb in zip(self.biases, nabla_b)]\n",
    "        \n",
    "    def train_1_epoch(self, training_data, eta):\n",
    "        for x, y in training_data: # training_data should be in the form of key-value pairs\n",
    "            self.gradient_descent(training_data, eta)\n",
    "    \n",
    "    def predict(self, testing_data):\n",
    "        for x, y in testing_data: # testing_data should be in the form of key-value pairs\n",
    "            print(self.feedforward(x))"
   ]
  },
  {
   "cell_type": "markdown",
   "id": "57fb5246",
   "metadata": {},
   "source": [
    "As an example, let's assume we want the network to always predict 1, regardless of the input:"
   ]
  },
  {
   "cell_type": "markdown",
   "id": "8ec8d234",
   "metadata": {},
   "source": [
    "### Initialising network"
   ]
  },
  {
   "cell_type": "code",
   "execution_count": 19,
   "id": "b95f1941",
   "metadata": {
    "ExecuteTime": {
     "end_time": "2023-01-22T19:42:13.449663Z",
     "start_time": "2023-01-22T19:42:13.448041Z"
    }
   },
   "outputs": [],
   "source": [
    "shapes = [5, 3, 2, 1]\n",
    "tn = TrainNetwork(shapes)"
   ]
  },
  {
   "cell_type": "markdown",
   "id": "036d89cc",
   "metadata": {},
   "source": [
    "### Initial network prediction"
   ]
  },
  {
   "cell_type": "code",
   "execution_count": 20,
   "id": "e9894fa4",
   "metadata": {
    "ExecuteTime": {
     "end_time": "2023-01-22T19:42:13.455251Z",
     "start_time": "2023-01-22T19:42:13.450393Z"
    }
   },
   "outputs": [
    {
     "name": "stdout",
     "output_type": "stream",
     "text": [
      "[[0.532183]]\n",
      "[[0.55720218]]\n",
      "[[0.52269133]]\n",
      "[[0.52012008]]\n",
      "[[0.55806266]]\n",
      "[[0.53055808]]\n",
      "[[0.56211634]]\n",
      "[[0.55486343]]\n",
      "[[0.55530016]]\n",
      "[[0.52499179]]\n"
     ]
    }
   ],
   "source": [
    "x = [np.random.randn(5, 1) for i in range(10)]\n",
    "y = [np.ones(shape = (1, 1)) for i in range(10)]\n",
    "testing_data = list(zip(x, y))\n",
    "\n",
    "tn.predict(testing_data)"
   ]
  },
  {
   "cell_type": "markdown",
   "id": "157f392b",
   "metadata": {},
   "source": [
    "### Training neural network with gradient descent"
   ]
  },
  {
   "cell_type": "code",
   "execution_count": 21,
   "id": "e62a4218",
   "metadata": {
    "ExecuteTime": {
     "end_time": "2023-01-22T19:42:13.862149Z",
     "start_time": "2023-01-22T19:42:13.456120Z"
    }
   },
   "outputs": [],
   "source": [
    "x = [np.random.randn(5, 1) for i in range(100)]\n",
    "y = [np.ones(shape = (1, 1)) for i in range(100)]\n",
    "training_data = list(zip(x, y))\n",
    "\n",
    "tn.train_1_epoch(training_data, 0.5)"
   ]
  },
  {
   "cell_type": "markdown",
   "id": "dc0fb8fe",
   "metadata": {},
   "source": [
    "### Predictions after training"
   ]
  },
  {
   "cell_type": "code",
   "execution_count": 22,
   "id": "aaa7bfb7",
   "metadata": {
    "ExecuteTime": {
     "end_time": "2023-01-22T19:42:13.866317Z",
     "start_time": "2023-01-22T19:42:13.863030Z"
    }
   },
   "outputs": [
    {
     "name": "stdout",
     "output_type": "stream",
     "text": [
      "[[0.88620617]]\n",
      "[[0.89243016]]\n",
      "[[0.8842313]]\n",
      "[[0.88413173]]\n",
      "[[0.89223154]]\n",
      "[[0.88665575]]\n",
      "[[0.8923263]]\n",
      "[[0.89159519]]\n",
      "[[0.89223409]]\n",
      "[[0.88514894]]\n"
     ]
    }
   ],
   "source": [
    "# x = [np.random.randn(5, 1) for i in range(10)]\n",
    "# y = [np.ones(shape = (1, 1)) for i in range(10)]\n",
    "# testing_data = zip(x, y)\n",
    "\n",
    "tn.predict(testing_data)"
   ]
  },
  {
   "cell_type": "markdown",
   "id": "83667c68",
   "metadata": {},
   "source": [
    "## Introducing Stochastic Gradient Descent with Mini-batches"
   ]
  },
  {
   "cell_type": "markdown",
   "id": "f80008e6",
   "metadata": {},
   "source": [
    "Using stochastic gradient descent, we split the training data into k mini-batches to speed up the training process.  \n",
    "For each mini batch, we compute the sum of the gradients for weights and biases:\n",
    "- nabla_b and nabla_w are the sum of delta_nabla_b and delta_nabla_w  \n",
    "- delta_nabla_b and delta_nabla_w are the gradients calculated by an entry of data in the mini batch  "
   ]
  },
  {
   "cell_type": "markdown",
   "id": "f4e198ba",
   "metadata": {},
   "source": [
    "The neural network's weights and biases are updated for each mini-batch. Now for each epoch, we would have updated the network's parameters k times, as we have split the data into k mini batches.\n",
    "\n",
    "Assuming that the randomly chosen mini batches are representative of the entire training data, by updating the parameters more frequently we reduces the time taken for the model to converge."
   ]
  },
  {
   "cell_type": "code",
   "execution_count": 23,
   "id": "14000c01",
   "metadata": {
    "ExecuteTime": {
     "end_time": "2023-01-22T19:42:13.872942Z",
     "start_time": "2023-01-22T19:42:13.867129Z"
    }
   },
   "outputs": [],
   "source": [
    "# we inherit the Network class and add the stochastic gradient descent algorithm\n",
    "class SGDTrainNetwork(Network):\n",
    "    def update_mini_batch(self, mini_batch, eta):\n",
    "        # create empty arrays for storing the partial derivatives \n",
    "        nabla_b = [np.zeros(b.shape) for b in self.biases]\n",
    "        nabla_w = [np.zeros(w.shape) for w in self.weights]\n",
    "        \n",
    "        # compute the sum of gradient matrices with the entire mini batch\n",
    "        for x, y in mini_batch:\n",
    "            delta_nabla_b, delta_nabla_w = self.backprop(x, y)\n",
    "            nabla_b = [nb+dnb for nb, dnb in zip(nabla_b, delta_nabla_b)]\n",
    "            nabla_w = [nw+dnw for nw, dnw in zip(nabla_w, delta_nabla_w)]\n",
    "        \n",
    "        # update parameters using the averaged gradient matrices\n",
    "        self.weights = [w - (eta/len(mini_batch))*nw for w, nw in zip(self.weights, nabla_w)]\n",
    "        self.biases = [b - (eta/len(mini_batch))*nb for b, nb in zip(self.biases, nabla_b)]\n",
    "    \n",
    "    def SGD(self, training_data, epochs, mini_batch_size, eta, testing_data = None):\n",
    "        n_train = len(training_data)\n",
    "        for i in range(epochs):\n",
    "            random.shuffle(training_data)\n",
    "            mini_batches = [training_data[k:k+mini_batch_size] for k in range(0, n_train, mini_batch_size)]\n",
    "            \n",
    "            for mini_batch in mini_batches:\n",
    "                self.update_mini_batch(mini_batch, eta)\n",
    "            \n",
    "            if testing_data:\n",
    "                n_test = len(testing_data)\n",
    "                print('Epoch {0}: prediction accuracy = {1}/{2}'.format(i, self.evaluate(testing_data), n_test))\n",
    "            else:\n",
    "                print('Epoch {0} complete.'.format(i))\n",
    "    \n",
    "    def evaluate(self, testing_data):\n",
    "        results = [(np.rint(self.feedforward(x)), y) for x, y in testing_data]\n",
    "        return sum(int(x == y) for x, y in results)\n",
    "    \n",
    "    def predict(self, testing_data):\n",
    "        for x, y in testing_data: # testing_data should be in the form of key-value pairs\n",
    "            print(self.feedforward(x))"
   ]
  },
  {
   "cell_type": "markdown",
   "id": "0c6317e1",
   "metadata": {},
   "source": [
    "### Initialising network"
   ]
  },
  {
   "cell_type": "code",
   "execution_count": 24,
   "id": "ab41cfa9",
   "metadata": {
    "ExecuteTime": {
     "end_time": "2023-01-22T19:42:13.875479Z",
     "start_time": "2023-01-22T19:42:13.873875Z"
    }
   },
   "outputs": [],
   "source": [
    "shapes = [5, 3, 2, 1]\n",
    "sgdtn = SGDTrainNetwork(shapes)"
   ]
  },
  {
   "cell_type": "markdown",
   "id": "1b55b2c4",
   "metadata": {},
   "source": [
    "### Initial network prediction"
   ]
  },
  {
   "cell_type": "code",
   "execution_count": 25,
   "id": "49c5d989",
   "metadata": {
    "ExecuteTime": {
     "end_time": "2023-01-22T19:42:13.878837Z",
     "start_time": "2023-01-22T19:42:13.876217Z"
    }
   },
   "outputs": [
    {
     "name": "stdout",
     "output_type": "stream",
     "text": [
      "[[0.44239093]]\n",
      "[[0.48977384]]\n",
      "[[0.45979013]]\n",
      "[[0.4457821]]\n",
      "[[0.47800476]]\n",
      "[[0.45289724]]\n",
      "[[0.5011914]]\n",
      "[[0.48516526]]\n",
      "[[0.49244593]]\n",
      "[[0.45117702]]\n"
     ]
    }
   ],
   "source": [
    "# x = [np.random.randn(5, 1) for i in range(100)]\n",
    "# y = [np.ones(shape = (1, 1)) for i in range(100)]\n",
    "# testing_data = list(zip(x, y))\n",
    "\n",
    "sgdtn.predict(testing_data[0:10])"
   ]
  },
  {
   "cell_type": "markdown",
   "id": "ba7e00a0",
   "metadata": {},
   "source": [
    "### Training neural network with gradient descent"
   ]
  },
  {
   "cell_type": "code",
   "execution_count": 26,
   "id": "3d0fa4be",
   "metadata": {
    "ExecuteTime": {
     "end_time": "2023-01-22T19:42:13.934559Z",
     "start_time": "2023-01-22T19:42:13.879668Z"
    }
   },
   "outputs": [
    {
     "name": "stdout",
     "output_type": "stream",
     "text": [
      "Epoch 0: prediction accuracy = 10/10\n",
      "Epoch 1: prediction accuracy = 10/10\n",
      "Epoch 2: prediction accuracy = 10/10\n",
      "Epoch 3: prediction accuracy = 10/10\n",
      "Epoch 4: prediction accuracy = 10/10\n",
      "Epoch 5: prediction accuracy = 10/10\n",
      "Epoch 6: prediction accuracy = 10/10\n",
      "Epoch 7: prediction accuracy = 10/10\n",
      "Epoch 8: prediction accuracy = 10/10\n",
      "Epoch 9: prediction accuracy = 10/10\n"
     ]
    }
   ],
   "source": [
    "# x = [np.random.randn(5, 1) for i in range(100)]\n",
    "# y = [np.ones(shape = (1, 1)) for i in range(100)]\n",
    "# training_data = list(zip(x, y))\n",
    "\n",
    "sgdtn.SGD(training_data, 10, 20, 0.5, testing_data)"
   ]
  },
  {
   "cell_type": "markdown",
   "id": "059e4bbc",
   "metadata": {},
   "source": [
    "### Predictions after training"
   ]
  },
  {
   "cell_type": "code",
   "execution_count": 27,
   "id": "a5ccb034",
   "metadata": {
    "ExecuteTime": {
     "end_time": "2023-01-22T19:42:13.938921Z",
     "start_time": "2023-01-22T19:42:13.935547Z"
    }
   },
   "outputs": [
    {
     "name": "stdout",
     "output_type": "stream",
     "text": [
      "[[0.82504621]]\n",
      "[[0.85747046]]\n",
      "[[0.83799455]]\n",
      "[[0.82906378]]\n",
      "[[0.83886864]]\n",
      "[[0.8358006]]\n",
      "[[0.854467]]\n",
      "[[0.84372202]]\n",
      "[[0.86175043]]\n",
      "[[0.8316787]]\n"
     ]
    }
   ],
   "source": [
    "sgdtn.predict(testing_data[0:10])"
   ]
  },
  {
   "cell_type": "markdown",
   "id": "378a952c",
   "metadata": {},
   "source": [
    "## Some Observations"
   ]
  },
  {
   "cell_type": "markdown",
   "id": "d59fec57",
   "metadata": {},
   "source": [
    "### GD vs SGD"
   ]
  },
  {
   "cell_type": "markdown",
   "id": "26b6c147",
   "metadata": {},
   "source": [
    "In both gradient descent (GD) and stochastic gradient descent (SGD), we update the parameters iteratively to minimize the cost function.\n",
    "- In GD, you have to run through ALL the samples in your training set to do a single update for a parameter in a particular iteration\n",
    "- In SGD, on the other hand, you use ONLY ONE or SUBSET of training sample from your training set to do the update for a parameter in a particular iteration. If you use SUBSET, it is called Minibatch Stochastic gradient Descent."
   ]
  },
  {
   "cell_type": "markdown",
   "id": "1546d7b4",
   "metadata": {},
   "source": [
    "Thus, if the number of training samples are large, in fact very large, then using gradient descent may take too long because in every iteration when you are updating the values of the parameters, you are running through the complete training set. On the other hand, using SGD will be faster because you use only one training sample and it starts improving itself right away from the first sample.\n",
    "\n",
    "SGD often converges much faster compared to GD but the error function is not as well minimized as in the case of GD. Often in most cases, the close approximation that you get in SGD for the parameter values are enough because they reach the optimal values and keep oscillating there."
   ]
  },
  {
   "cell_type": "markdown",
   "id": "7f4b4a6f",
   "metadata": {
    "ExecuteTime": {
     "end_time": "2022-08-30T14:12:01.228670Z",
     "start_time": "2022-08-30T14:12:01.224120Z"
    }
   },
   "source": [
    "### Choice of hyper-parameters"
   ]
  },
  {
   "cell_type": "markdown",
   "id": "0d438e2e",
   "metadata": {},
   "source": [
    "### Complexity & Regularisation"
   ]
  },
  {
   "cell_type": "markdown",
   "id": "4a9e3d43",
   "metadata": {},
   "source": [
    "## Learning with Real Data"
   ]
  },
  {
   "cell_type": "code",
   "execution_count": 82,
   "id": "83c7c063",
   "metadata": {},
   "outputs": [],
   "source": [
    "import os\n",
    "import pandas as pd\n",
    "from sklearn.preprocessing import StandardScaler\n",
    "from sklearn.model_selection import train_test_split"
   ]
  },
  {
   "cell_type": "code",
   "execution_count": 122,
   "id": "e329b205",
   "metadata": {},
   "outputs": [],
   "source": [
    "# this is a modified version of the previous code\n",
    "\n",
    "# we inherit the Network class and add the stochastic gradient descent algorithm\n",
    "class SGDTrainNetwork(Network):\n",
    "    def update_mini_batch(self, mini_batch, eta):\n",
    "        # create empty arrays for storing the partial derivatives \n",
    "        nabla_b = [np.zeros(b.shape) for b in self.biases]\n",
    "        nabla_w = [np.zeros(w.shape) for w in self.weights]\n",
    "        \n",
    "        # compute the sum of gradient matrices with the entire mini batch\n",
    "        for x, y in mini_batch:\n",
    "            delta_nabla_b, delta_nabla_w = self.backprop(x, y)\n",
    "            nabla_b = [nb+dnb for nb, dnb in zip(nabla_b, delta_nabla_b)]\n",
    "            nabla_w = [nw+dnw for nw, dnw in zip(nabla_w, delta_nabla_w)]\n",
    "        \n",
    "        # update parameters using the averaged gradient matrices\n",
    "        self.weights = [w - (eta/len(mini_batch))*nw for w, nw in zip(self.weights, nabla_w)]\n",
    "        self.biases = [b - (eta/len(mini_batch))*nb for b, nb in zip(self.biases, nabla_b)]\n",
    "    \n",
    "    def SGD(self, training_data, epochs, mini_batch_size, eta, testing_data = None):\n",
    "        n_train = len(training_data)\n",
    "        for i in range(epochs):\n",
    "            random.shuffle(training_data)\n",
    "            mini_batches = [training_data[k:k+mini_batch_size] for k in range(0, n_train, mini_batch_size)]\n",
    "            \n",
    "            for mini_batch in mini_batches:\n",
    "                self.update_mini_batch(mini_batch, eta)\n",
    "            \n",
    "            if testing_data:\n",
    "                n_test = len(testing_data)\n",
    "                print('Epoch {0}: prediction accuracy = {1}/{2}'.format(i, self.evaluate(testing_data), n_test))\n",
    "            else:\n",
    "                print('Epoch {0} complete.'.format(i))\n",
    "    \n",
    "    def evaluate(self, testing_data):\n",
    "        # NB: we use np.argmax() which returns the index of the maximum element for y_pred and y_test\n",
    "        results = [(np.argmax(self.feedforward(x)), np.argmax(y)) for x, y in testing_data]\n",
    "        return sum(int(x == y) for x, y in results)\n",
    "    \n",
    "    def predict(self, testing_data):\n",
    "        for x, y in testing_data: # testing_data should be in the form of key-value pairs\n",
    "            print(self.feedforward(x))"
   ]
  },
  {
   "attachments": {},
   "cell_type": "markdown",
   "id": "2aa82f5b",
   "metadata": {},
   "source": [
    "### Pre-process Data"
   ]
  },
  {
   "cell_type": "code",
   "execution_count": 49,
   "id": "46a32278",
   "metadata": {},
   "outputs": [
    {
     "data": {
      "text/html": [
       "<div>\n",
       "<style scoped>\n",
       "    .dataframe tbody tr th:only-of-type {\n",
       "        vertical-align: middle;\n",
       "    }\n",
       "\n",
       "    .dataframe tbody tr th {\n",
       "        vertical-align: top;\n",
       "    }\n",
       "\n",
       "    .dataframe thead th {\n",
       "        text-align: right;\n",
       "    }\n",
       "</style>\n",
       "<table border=\"1\" class=\"dataframe\">\n",
       "  <thead>\n",
       "    <tr style=\"text-align: right;\">\n",
       "      <th></th>\n",
       "      <th>sepallength</th>\n",
       "      <th>sepalwidth</th>\n",
       "      <th>petallength</th>\n",
       "      <th>petalwidth</th>\n",
       "      <th>class</th>\n",
       "    </tr>\n",
       "  </thead>\n",
       "  <tbody>\n",
       "    <tr>\n",
       "      <th>0</th>\n",
       "      <td>5.1</td>\n",
       "      <td>3.5</td>\n",
       "      <td>1.4</td>\n",
       "      <td>0.2</td>\n",
       "      <td>Iris-setosa</td>\n",
       "    </tr>\n",
       "    <tr>\n",
       "      <th>1</th>\n",
       "      <td>4.9</td>\n",
       "      <td>3.0</td>\n",
       "      <td>1.4</td>\n",
       "      <td>0.2</td>\n",
       "      <td>Iris-setosa</td>\n",
       "    </tr>\n",
       "    <tr>\n",
       "      <th>2</th>\n",
       "      <td>4.7</td>\n",
       "      <td>3.2</td>\n",
       "      <td>1.3</td>\n",
       "      <td>0.2</td>\n",
       "      <td>Iris-setosa</td>\n",
       "    </tr>\n",
       "    <tr>\n",
       "      <th>3</th>\n",
       "      <td>4.6</td>\n",
       "      <td>3.1</td>\n",
       "      <td>1.5</td>\n",
       "      <td>0.2</td>\n",
       "      <td>Iris-setosa</td>\n",
       "    </tr>\n",
       "    <tr>\n",
       "      <th>4</th>\n",
       "      <td>5.0</td>\n",
       "      <td>3.6</td>\n",
       "      <td>1.4</td>\n",
       "      <td>0.2</td>\n",
       "      <td>Iris-setosa</td>\n",
       "    </tr>\n",
       "  </tbody>\n",
       "</table>\n",
       "</div>"
      ],
      "text/plain": [
       "   sepallength  sepalwidth  petallength  petalwidth        class\n",
       "0          5.1         3.5          1.4         0.2  Iris-setosa\n",
       "1          4.9         3.0          1.4         0.2  Iris-setosa\n",
       "2          4.7         3.2          1.3         0.2  Iris-setosa\n",
       "3          4.6         3.1          1.5         0.2  Iris-setosa\n",
       "4          5.0         3.6          1.4         0.2  Iris-setosa"
      ]
     },
     "execution_count": 49,
     "metadata": {},
     "output_type": "execute_result"
    }
   ],
   "source": [
    "iris = pd.read_csv(os.getcwd() + '/iris.csv')\n",
    "iris.head()"
   ]
  },
  {
   "cell_type": "code",
   "execution_count": 78,
   "id": "72f45244",
   "metadata": {},
   "outputs": [
    {
     "data": {
      "text/html": [
       "<div>\n",
       "<style scoped>\n",
       "    .dataframe tbody tr th:only-of-type {\n",
       "        vertical-align: middle;\n",
       "    }\n",
       "\n",
       "    .dataframe tbody tr th {\n",
       "        vertical-align: top;\n",
       "    }\n",
       "\n",
       "    .dataframe thead th {\n",
       "        text-align: right;\n",
       "    }\n",
       "</style>\n",
       "<table border=\"1\" class=\"dataframe\">\n",
       "  <thead>\n",
       "    <tr style=\"text-align: right;\">\n",
       "      <th></th>\n",
       "      <th>sepallength</th>\n",
       "      <th>sepalwidth</th>\n",
       "      <th>petallength</th>\n",
       "      <th>petalwidth</th>\n",
       "      <th>class_Iris-setosa</th>\n",
       "      <th>class_Iris-versicolor</th>\n",
       "      <th>class_Iris-virginica</th>\n",
       "    </tr>\n",
       "  </thead>\n",
       "  <tbody>\n",
       "    <tr>\n",
       "      <th>0</th>\n",
       "      <td>5.1</td>\n",
       "      <td>3.5</td>\n",
       "      <td>1.4</td>\n",
       "      <td>0.2</td>\n",
       "      <td>1</td>\n",
       "      <td>0</td>\n",
       "      <td>0</td>\n",
       "    </tr>\n",
       "    <tr>\n",
       "      <th>1</th>\n",
       "      <td>4.9</td>\n",
       "      <td>3.0</td>\n",
       "      <td>1.4</td>\n",
       "      <td>0.2</td>\n",
       "      <td>1</td>\n",
       "      <td>0</td>\n",
       "      <td>0</td>\n",
       "    </tr>\n",
       "    <tr>\n",
       "      <th>2</th>\n",
       "      <td>4.7</td>\n",
       "      <td>3.2</td>\n",
       "      <td>1.3</td>\n",
       "      <td>0.2</td>\n",
       "      <td>1</td>\n",
       "      <td>0</td>\n",
       "      <td>0</td>\n",
       "    </tr>\n",
       "    <tr>\n",
       "      <th>3</th>\n",
       "      <td>4.6</td>\n",
       "      <td>3.1</td>\n",
       "      <td>1.5</td>\n",
       "      <td>0.2</td>\n",
       "      <td>1</td>\n",
       "      <td>0</td>\n",
       "      <td>0</td>\n",
       "    </tr>\n",
       "    <tr>\n",
       "      <th>4</th>\n",
       "      <td>5.0</td>\n",
       "      <td>3.6</td>\n",
       "      <td>1.4</td>\n",
       "      <td>0.2</td>\n",
       "      <td>1</td>\n",
       "      <td>0</td>\n",
       "      <td>0</td>\n",
       "    </tr>\n",
       "  </tbody>\n",
       "</table>\n",
       "</div>"
      ],
      "text/plain": [
       "   sepallength  sepalwidth  petallength  petalwidth  class_Iris-setosa  \\\n",
       "0          5.1         3.5          1.4         0.2                  1   \n",
       "1          4.9         3.0          1.4         0.2                  1   \n",
       "2          4.7         3.2          1.3         0.2                  1   \n",
       "3          4.6         3.1          1.5         0.2                  1   \n",
       "4          5.0         3.6          1.4         0.2                  1   \n",
       "\n",
       "   class_Iris-versicolor  class_Iris-virginica  \n",
       "0                      0                     0  \n",
       "1                      0                     0  \n",
       "2                      0                     0  \n",
       "3                      0                     0  \n",
       "4                      0                     0  "
      ]
     },
     "execution_count": 78,
     "metadata": {},
     "output_type": "execute_result"
    }
   ],
   "source": [
    "# one-hot encode the 'class' column\n",
    "df = pd.get_dummies(iris, columns=[\"class\"])\n",
    "df.head()"
   ]
  },
  {
   "cell_type": "code",
   "execution_count": 90,
   "id": "ea953e10",
   "metadata": {},
   "outputs": [],
   "source": [
    "# standardizing the features\n",
    "X, y = df.iloc[:,0:4].to_numpy(), df.iloc[:,4:7].to_numpy()\n",
    "scaler = StandardScaler()\n",
    "X = scaler.fit_transform(X)"
   ]
  },
  {
   "cell_type": "code",
   "execution_count": null,
   "id": "dadba2af",
   "metadata": {},
   "outputs": [],
   "source": [
    "X_train, X_test, y_train, y_test = train_test_split(X, y, train_size=0.8, test_size=0.2, shuffle=True)"
   ]
  },
  {
   "cell_type": "code",
   "execution_count": 106,
   "id": "c5dcb24d",
   "metadata": {},
   "outputs": [],
   "source": [
    "# re-format the data\n",
    "x = [x.reshape(4,1) for x in X_train]\n",
    "y = [y.reshape(3,1) for y in y_train]\n",
    "training_data = list(zip(x, y))\n",
    "\n",
    "x = [x.reshape(4,1) for x in X_test]\n",
    "y = [y.reshape(3,1) for y in y_test]\n",
    "testing_data = list(zip(x, y))"
   ]
  },
  {
   "cell_type": "code",
   "execution_count": 143,
   "id": "698a668a",
   "metadata": {},
   "outputs": [
    {
     "name": "stdout",
     "output_type": "stream",
     "text": [
      "Epoch 0: prediction accuracy = 14/30\n",
      "Epoch 1: prediction accuracy = 17/30\n",
      "Epoch 2: prediction accuracy = 20/30\n",
      "Epoch 3: prediction accuracy = 21/30\n",
      "Epoch 4: prediction accuracy = 21/30\n",
      "Epoch 5: prediction accuracy = 21/30\n",
      "Epoch 6: prediction accuracy = 22/30\n",
      "Epoch 7: prediction accuracy = 22/30\n",
      "Epoch 8: prediction accuracy = 21/30\n",
      "Epoch 9: prediction accuracy = 21/30\n",
      "Epoch 10: prediction accuracy = 21/30\n",
      "Epoch 11: prediction accuracy = 22/30\n",
      "Epoch 12: prediction accuracy = 22/30\n",
      "Epoch 13: prediction accuracy = 22/30\n",
      "Epoch 14: prediction accuracy = 22/30\n",
      "Epoch 15: prediction accuracy = 23/30\n",
      "Epoch 16: prediction accuracy = 23/30\n",
      "Epoch 17: prediction accuracy = 23/30\n",
      "Epoch 18: prediction accuracy = 23/30\n",
      "Epoch 19: prediction accuracy = 23/30\n"
     ]
    }
   ],
   "source": [
    "nn = SGDTrainNetwork(shapes=[4, 100, 3])\n",
    "\n",
    "nn.SGD(training_data, 20, 20, 0.05, testing_data)"
   ]
  }
 ],
 "metadata": {
  "kernelspec": {
   "display_name": "Python 3",
   "language": "python",
   "name": "python3"
  },
  "language_info": {
   "codemirror_mode": {
    "name": "ipython",
    "version": 3
   },
   "file_extension": ".py",
   "mimetype": "text/x-python",
   "name": "python",
   "nbconvert_exporter": "python",
   "pygments_lexer": "ipython3",
   "version": "3.10.7 (main, Sep 14 2022, 22:38:23) [Clang 14.0.0 (clang-1400.0.29.102)]"
  },
  "toc": {
   "base_numbering": 1,
   "nav_menu": {},
   "number_sections": true,
   "sideBar": true,
   "skip_h1_title": false,
   "title_cell": "Table of Contents",
   "title_sidebar": "Contents",
   "toc_cell": false,
   "toc_position": {},
   "toc_section_display": true,
   "toc_window_display": false
  },
  "vscode": {
   "interpreter": {
    "hash": "b0fa6594d8f4cbf19f97940f81e996739fb7646882a419484c72d19e05852a7e"
   }
  }
 },
 "nbformat": 4,
 "nbformat_minor": 5
}
